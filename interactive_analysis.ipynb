{
 "cells": [
  {
   "cell_type": "markdown",
   "metadata": {},
   "source": [
    "# AVOXI Billing Analysis - Interactive Notebook\n",
    "\n",
    "This notebook provides an interactive exploration of the AVOXI billing data analysis.\n",
    "\n",
    "**Author:** David Madison  \n",
    "**Data Period:** January - March 2025"
   ]
  },
  {
   "cell_type": "markdown",
   "metadata": {},
   "source": [
    "## Setup\n",
    "Import required libraries and load the data"
   ]
  },
  {
   "cell_type": "code",
   "execution_count": null,
   "metadata": {},
   "outputs": [],
   "source": [
    "import pandas as pd\n",
    "import matplotlib.pyplot as plt\n",
    "import seaborn as sns\n",
    "import numpy as np\n",
    "\n",
    "# Set styling\n",
    "plt.style.use('seaborn-v0_8-darkgrid')\n",
    "sns.set_palette(\"husl\")\n",
    "%matplotlib inline"
   ]
  },
  {
   "cell_type": "code",
   "execution_count": null,
   "metadata": {},
   "outputs": [],
   "source": [
    "# Load all data sheets\n",
    "xl = pd.ExcelFile('data/AVOXI_Billing_Analysis_.xlsx')\n",
    "data = {sheet: pd.read_excel(xl, sheet_name=sheet) for sheet in xl.sheet_names}\n",
    "\n",
    "print(f\"Loaded {len(data)} sheets:\")\n",
    "for sheet in xl.sheet_names:\n",
    "    print(f\"  - {sheet}: {data[sheet].shape[0]} rows\")"
   ]
  },
  {
   "cell_type": "markdown",
   "metadata": {},
   "source": [
    "## Executive Summary"
   ]
  },
  {
   "cell_type": "code",
   "execution_count": null,
   "metadata": {},
   "outputs": [],
   "source": [
    "summary = data['Summary']\n",
    "summary"
   ]
  },
  {
   "cell_type": "markdown",
   "metadata": {},
   "source": [
    "## Client Analysis\n",
    "Explore client performance and profitability"
   ]
  },
  {
   "cell_type": "code",
   "execution_count": null,
   "metadata": {},
   "outputs": [],
   "source": [
    "clients = data['Client Breakdown'].sort_values('Revenue', ascending=False)\n",
    "\n",
    "# Display top 10 clients\n",
    "clients.head(10)"
   ]
  },
  {
   "cell_type": "code",
   "execution_count": null,
   "metadata": {},
   "outputs": [],
   "source": [
    "# Visualize top clients\n",
    "fig, ax = plt.subplots(figsize=(12, 6))\n",
    "top10 = clients.head(10)\n",
    "ax.barh(top10['Customer'], top10['Revenue'], color=plt.cm.viridis(np.linspace(0.3, 0.9, 10)))\n",
    "ax.set_xlabel('Revenue ($)', fontweight='bold')\n",
    "ax.set_title('Top 10 Clients by Revenue', fontweight='bold', fontsize=14)\n",
    "ax.invert_yaxis()\n",
    "plt.tight_layout()\n",
    "plt.show()"
   ]
  },
  {
   "cell_type": "markdown",
   "metadata": {},
   "source": [
    "## Country Analysis\n",
    "Geographic performance breakdown"
   ]
  },
  {
   "cell_type": "code",
   "execution_count": null,
   "metadata": {},
   "outputs": [],
   "source": [
    "countries = data['Country Breakdown'].sort_values('Revenue', ascending=False)\n",
    "countries"
   ]
  },
  {
   "cell_type": "code",
   "execution_count": null,
   "metadata": {},
   "outputs": [],
   "source": [
    "# Revenue and margin by country\n",
    "fig, axes = plt.subplots(1, 2, figsize=(14, 5))\n",
    "\n",
    "# Revenue pie chart\n",
    "axes[0].pie(countries['Revenue'], labels=countries['Country'], autopct='%1.1f%%', startangle=90)\n",
    "axes[0].set_title('Revenue by Country', fontweight='bold')\n",
    "\n",
    "# Margin bar chart\n",
    "colors = ['#FF6B6B' if x < 0.35 else '#4ECDC4' for x in countries['GM%']]\n",
    "axes[1].barh(countries['Country'], countries['GM%'] * 100, color=colors)\n",
    "axes[1].axvline(x=35, color='red', linestyle='--', label='35% Threshold')\n",
    "axes[1].set_xlabel('Gross Margin (%)', fontweight='bold')\n",
    "axes[1].set_title('Margin by Country', fontweight='bold')\n",
    "axes[1].legend()\n",
    "axes[1].invert_yaxis()\n",
    "\n",
    "plt.tight_layout()\n",
    "plt.show()"
   ]
  },
  {
   "cell_type": "markdown",
   "metadata": {},
   "source": [
    "## Vendor Analysis\n",
    "Cost distribution and efficiency"
   ]
  },
  {
   "cell_type": "code",
   "execution_count": null,
   "metadata": {},
   "outputs": [],
   "source": [
    "vendors = data['Vendor Costs'].sort_values('Total Cost', ascending=False)\n",
    "vendors['Cost Share %'] = (vendors['Total Cost'] / vendors['Total Cost'].sum() * 100).round(1)\n",
    "vendors"
   ]
  },
  {
   "cell_type": "code",
   "execution_count": null,
   "metadata": {},
   "outputs": [],
   "source": [
    "# Vendor cost pie chart\n",
    "fig, ax = plt.subplots(figsize=(10, 6))\n",
    "ax.pie(vendors['Total Cost'], \n",
    "       labels=vendors['Vendor'],\n",
    "       autopct=lambda pct: f'${pct*sum(vendors[\"Total Cost\"])/100:,.0f}\\n({pct:.1f}%)',\n",
    "       startangle=45)\n",
    "ax.set_title('Vendor Cost Distribution', fontweight='bold', fontsize=14)\n",
    "plt.tight_layout()\n",
    "plt.show()"
   ]
  },
  {
   "cell_type": "markdown",
   "metadata": {},
   "source": [
    "## Low Margin Analysis\n",
    "Identify optimization opportunities"
   ]
  },
  {
   "cell_type": "code",
   "execution_count": null,
   "metadata": {},
   "outputs": [],
   "source": [
    "low_margin_clients = data['Low Margin Clients']\n",
    "print(\"Low Margin Clients (< 35%):\")\n",
    "low_margin_clients[low_margin_clients['GM%'] < 0.35]"
   ]
  },
  {
   "cell_type": "code",
   "execution_count": null,
   "metadata": {},
   "outputs": [],
   "source": [
    "low_margin_countries = data['Low Margin Countries']\n",
    "print(\"Low Margin Countries (< 35%):\")\n",
    "low_margin_countries[low_margin_countries['GM%'] < 0.35]"
   ]
  },
  {
   "cell_type": "markdown",
   "metadata": {},
   "source": [
    "## Key Recommendations\n",
    "\n",
    "Based on the analysis:\n",
    "\n",
    "1. **Implement Pricing Increase**\n",
    "   - Mobile rates: +7%\n",
    "   - Landline rates: +20%\n",
    "   - Expected margin improvement: 39.59% → 46.37%\n",
    "\n",
    "2. **Optimize Call Routing**\n",
    "   - Route short calls to per-second vendors (Vendor 2)\n",
    "   - Potential cost savings: 3-5%\n",
    "\n",
    "3. **Address Low Margin Segments**\n",
    "   - Focus on: United States, Chile, Australia\n",
    "   - Review pricing for clients below 35% margin\n",
    "\n",
    "4. **Monitor Vendor Concentration**\n",
    "   - Top 2 vendors: 73.9% of costs\n",
    "   - Consider diversification strategy"
   ]
  },
  {
   "cell_type": "markdown",
   "metadata": {},
   "source": [
    "## Custom Analysis\n",
    "Use this section for your own explorations"
   ]
  },
  {
   "cell_type": "code",
   "execution_count": null,
   "metadata": {},
   "outputs": [],
   "source": [
    "# Your custom analysis here\n"
   ]
  }
 ],
 "metadata": {
  "kernelspec": {
   "display_name": "Python 3",
   "language": "python",
   "name": "python3"
  },
  "language_info": {
   "codemirror_mode": {
    "name": "ipython",
    "version": 3
   },
   "file_extension": ".py",
   "mimetype": "text/x-python",
   "name": "python",
   "nbconvert_exporter": "python",
   "pygments_lexer": "ipython3",
   "version": "3.8.0"
  }
 },
 "nbformat": 4,
 "nbformat_minor": 4
}